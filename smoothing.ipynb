{
 "cells": [
  {
   "cell_type": "code",
   "execution_count": 1,
   "metadata": {},
   "outputs": [],
   "source": [
    "import sys, os\n",
    "from scipy import sparse\n",
    "from scipy.sparse.linalg import spsolve\n",
    "from scipy.sparse import eye\n",
    "import numpy as np\n",
    "\n",
    "from core.InputOutput import *\n",
    "from core.MeshDisplay import MeshDisplay\n",
    "from core.HalfEdgeMesh import *"
   ]
  },
  {
   "cell_type": "code",
   "execution_count": 2,
   "metadata": {},
   "outputs": [
    {
     "name": "stdout",
     "output_type": "stream",
     "text": [
      "Reading mesh from: meshes/cube.obj\n",
      "   Loaded mesh with 6,146 vertices and 12,288 faces\n",
      "\n",
      "Constructing HalfEdge Mesh...\n",
      "  Input mesh has 0 unpaired edges (which only appear in one direction)\n",
      "  Input mesh has 0 unpaired verts (which touch some unpaired edge)\n",
      "  Filled 0 boundary holes in mesh using imaginary halfedges/faces\n",
      "HalfEdge mesh construction completed\n",
      "=== HalfEdge mesh statistics:\n",
      "    Halfedges = 36864  (+ 0 imaginary)\n",
      "    Edges = 18432\n",
      "    Faces = 12288  (+ 0 imaginary)\n",
      "    Verts = 6146\n",
      "    - Max vertex degree = 8\n",
      "    - Min vertex degree = 3\n",
      "    - n boundary verts = 0\n"
     ]
    }
   ],
   "source": [
    "filename = 'meshes/bunny.obj'\n",
    "mesh = HalfEdgeMesh(readMesh(filename),staticGeometry=False)"
   ]
  },
  {
   "cell_type": "code",
   "execution_count": 4,
   "metadata": {},
   "outputs": [],
   "source": [
    "def smoothing(mesh, iterations=1):\n",
    "    \n",
    "    verts = list(mesh.verts)\n",
    "    vert_ids = {i: n for n, i in enumerate(verts)}\n",
    "\n",
    "    for iteration in range(iterations):\n",
    "\n",
    "        data = []\n",
    "        col_ind = []\n",
    "        row_ind = []\n",
    "\n",
    "        for n, i in enumerate(verts):\n",
    "            cotan_sum = sum(j.cotan + j.twin.cotan for j in i.adjacentHalfEdges())\n",
    "            data.append(cotan_sum / 2.)\n",
    "            row_ind.append(n)\n",
    "            col_ind.append(n)\n",
    "\n",
    "        for m in mesh.halfEdges:\n",
    "            data.append(-(m.cotan + m.twin.cotan) / 2.)\n",
    "            row_ind.append(vert_ids[m.vertex])\n",
    "            col_ind.append(vert_ids[m.next.vertex])\n",
    "\n",
    "        # construct the laplacian matrix\n",
    "        L = sparse.coo_matrix((data, (row_ind, col_ind)))\n",
    "        I = eye(len(verts))\n",
    "\n",
    "        # calculate new positions\n",
    "        new_positions = spsolve(I + L, [i.position for i in verts])\n",
    "        \n",
    "        # update mesh vertices positions\n",
    "        for v, new_position in zip(verts, new_positions):\n",
    "            v.position = new_position\n",
    "            \n",
    "        print('Done %d iteration' % iteration)\n",
    "\n",
    "    return mesh"
   ]
  },
  {
   "cell_type": "code",
   "execution_count": null,
   "metadata": {},
   "outputs": [
    {
     "name": "stdout",
     "output_type": "stream",
     "text": [
      "Done 0 iteration\n",
      "Done 1 iteration\n",
      "Done 2 iteration\n",
      "Done 3 iteration\n",
      "Done 4 iteration\n",
      "Done 5 iteration\n",
      "Done 6 iteration\n",
      "Done 7 iteration\n",
      "Done 8 iteration\n",
      "Done 9 iteration\n",
      "Creating MeshDisplay window\n",
      "  Platform is: darwin\n",
      "  init'd GLUT\n",
      "  init'd GL\n",
      "Starting MeshDisplay openGL main loop\n",
      "Filling buffers for visualization\n",
      "Done filling buffers for visualization\n"
     ]
    }
   ],
   "source": [
    "smoothing(mesh, 10)\n",
    "meshDisplay = MeshDisplay()\n",
    "meshDisplay.setMesh(mesh)\n",
    "meshDisplay.startMainLoop()"
   ]
  },
  {
   "cell_type": "code",
   "execution_count": null,
   "metadata": {},
   "outputs": [],
   "source": []
  },
  {
   "cell_type": "code",
   "execution_count": null,
   "metadata": {},
   "outputs": [],
   "source": []
  }
 ],
 "metadata": {
  "kernelspec": {
   "display_name": "Python 2",
   "language": "python",
   "name": "python2"
  },
  "language_info": {
   "codemirror_mode": {
    "name": "ipython",
    "version": 2
   },
   "file_extension": ".py",
   "mimetype": "text/x-python",
   "name": "python",
   "nbconvert_exporter": "python",
   "pygments_lexer": "ipython2",
   "version": "2.7.10"
  }
 },
 "nbformat": 4,
 "nbformat_minor": 2
}
